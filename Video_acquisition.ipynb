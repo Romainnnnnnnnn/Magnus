{
 "cells": [
  {
   "cell_type": "code",
   "execution_count": 1,
   "id": "95f6c101",
   "metadata": {},
   "outputs": [],
   "source": [
    "#Script to acquire video from a camera and display it with a grid overlay\n",
    "#Script to be used for calibrating the camera with the 8x8 chessboard grid\n",
    "\n",
    "import cv2\n",
    "\n",
    "# Connects to webcam\n",
    "cap = cv2.VideoCapture(0)\n",
    "\n",
    "# Automatically grab width and height from video feed\n",
    "width = int(cap.get(cv2.CAP_PROP_FRAME_WIDTH))\n",
    "cap.set(cv2.CAP_PROP_FRAME_WIDTH, 1280)\n",
    "cap.set(cv2.CAP_PROP_FRAME_HEIGHT, 1024)\n",
    "width = int(cap.get(cv2.CAP_PROP_FRAME_WIDTH))\n",
    "height = int(cap.get(cv2.CAP_PROP_FRAME_HEIGHT))\n",
    "\n",
    "\n",
    "while True:\n",
    "    # Capture frame-by-frame\n",
    "    ret, frame = cap.read()\n",
    "\n",
    "    # Crop the frame to the center 1024x1024 region\n",
    "    frame_resized = frame[0:1024, 128:1152]\n",
    "\n",
    "    # Draw an 8x8 grid\n",
    "    for i in range(1, 8):\n",
    "        cv2.line(frame_resized, (0, i * 128), (1024, i * 128), (255, 255, 255), 1) # horizontal lines\n",
    "        cv2.line(frame_resized, (i * 128, 0), (i * 128, 1024), (255, 255, 255), 1) # vertical lines\n",
    "    \n",
    "     # Display the resulting frame with the grid\n",
    "    cv2.imshow('frame', frame_resized)\n",
    "    \n",
    "    # This command let's us quit with the \"q\" button on a keyboard.\n",
    "    if cv2.waitKey(1) & 0xFF == ord('q'):\n",
    "        break\n",
    "\n",
    "# When everything done, release the capture and destroy the windows\n",
    "cap.release()\n",
    "cv2.destroyAllWindows()\n"
   ]
  }
 ],
 "metadata": {
  "kernelspec": {
   "display_name": ".venv",
   "language": "python",
   "name": "python3"
  },
  "language_info": {
   "codemirror_mode": {
    "name": "ipython",
    "version": 3
   },
   "file_extension": ".py",
   "mimetype": "text/x-python",
   "name": "python",
   "nbconvert_exporter": "python",
   "pygments_lexer": "ipython3",
   "version": "3.12.0"
  }
 },
 "nbformat": 4,
 "nbformat_minor": 5
}
